{
 "cells": [
  {
   "cell_type": "code",
   "execution_count": null,
   "id": "0ec38d9b-8879-48c4-bef0-eed8a2044912",
   "metadata": {},
   "outputs": [
    {
     "name": "stdout",
     "output_type": "stream",
     "text": [
      "Dataset Preview:\n",
      "   age  sex  chest pain type  resting bp s  cholesterol  fasting blood sugar  \\\n",
      "0   40    1                2           140          289                    0   \n",
      "1   49    0                3           160          180                    0   \n",
      "2   37    1                2           130          283                    0   \n",
      "3   48    0                4           138          214                    0   \n",
      "4   54    1                3           150          195                    0   \n",
      "\n",
      "   resting ecg  max heart rate  exercise angina  oldpeak  ST slope  target  \n",
      "0            0             172                0      0.0         1       0  \n",
      "1            0             156                0      1.0         2       1  \n",
      "2            1              98                0      0.0         1       0  \n",
      "3            0             108                1      1.5         2       1  \n",
      "4            0             122                0      0.0         1       0  \n",
      "\n",
      "Missing Values:\n",
      "age                    0\n",
      "sex                    0\n",
      "chest pain type        0\n",
      "resting bp s           0\n",
      "cholesterol            0\n",
      "fasting blood sugar    0\n",
      "resting ecg            0\n",
      "max heart rate         0\n",
      "exercise angina        0\n",
      "oldpeak                0\n",
      "ST slope               0\n",
      "target                 0\n",
      "dtype: int64\n",
      "\n",
      "Dataset Description:\n",
      "               age          sex  chest pain type  resting bp s  cholesterol  \\\n",
      "count  1190.000000  1190.000000      1190.000000   1190.000000  1190.000000   \n",
      "mean     53.720168     0.763866         3.232773    132.153782   210.363866   \n",
      "std       9.358203     0.424884         0.935480     18.368823   101.420489   \n",
      "min      28.000000     0.000000         1.000000      0.000000     0.000000   \n",
      "25%      47.000000     1.000000         3.000000    120.000000   188.000000   \n",
      "50%      54.000000     1.000000         4.000000    130.000000   229.000000   \n",
      "75%      60.000000     1.000000         4.000000    140.000000   269.750000   \n",
      "max      77.000000     1.000000         4.000000    200.000000   603.000000   \n",
      "\n",
      "       fasting blood sugar  resting ecg  max heart rate  exercise angina  \\\n",
      "count          1190.000000  1190.000000     1190.000000      1190.000000   \n",
      "mean              0.213445     0.698319      139.732773         0.387395   \n",
      "std               0.409912     0.870359       25.517636         0.487360   \n",
      "min               0.000000     0.000000       60.000000         0.000000   \n",
      "25%               0.000000     0.000000      121.000000         0.000000   \n",
      "50%               0.000000     0.000000      140.500000         0.000000   \n",
      "75%               0.000000     2.000000      160.000000         1.000000   \n",
      "max               1.000000     2.000000      202.000000         1.000000   \n",
      "\n",
      "           oldpeak     ST slope       target  \n",
      "count  1190.000000  1190.000000  1190.000000  \n",
      "mean      0.922773     1.624370     0.528571  \n",
      "std       1.086337     0.610459     0.499393  \n",
      "min      -2.600000     0.000000     0.000000  \n",
      "25%       0.000000     1.000000     0.000000  \n",
      "50%       0.600000     2.000000     1.000000  \n",
      "75%       1.600000     2.000000     1.000000  \n",
      "max       6.200000     3.000000     1.000000  \n"
     ]
    }
   ],
   "source": [
    "# Importing necessary libraries\n",
    "import pandas as pd\n",
    "\n",
    "# Load the dataset\n",
    "file_path = 'dataset.csv'  # Update this with the correct path to the dataset\n",
    "data = pd.read_csv(file_path)\n",
    "\n",
    "# Display the first few rows to understand the structure\n",
    "print(\"Dataset Preview:\")\n",
    "print(data.head())\n",
    "\n",
    "# Check for missing values\n",
    "print(\"\\nMissing Values:\")\n",
    "print(data.isnull().sum())\n",
    "\n",
    "# Display basic statistics\n",
    "print(\"\\nDataset Description:\")\n",
    "print(data.describe())\n"
   ]
  },
  {
   "cell_type": "code",
   "execution_count": null,
   "id": "d818c68d-a2f9-4ce9-aadf-c8c2c6be494c",
   "metadata": {},
   "outputs": [
    {
     "name": "stdout",
     "output_type": "stream",
     "text": [
      "Training set size: (952, 11)\n",
      "Testing set size: (238, 11)\n"
     ]
    }
   ],
   "source": [
    "from sklearn.model_selection import train_test_split\n",
    "from sklearn.preprocessing import StandardScaler\n",
    "\n",
    "# Separate features and target variable\n",
    "X = data.drop(columns=[\"target\"])\n",
    "y = data[\"target\"]\n",
    "\n",
    "# Normalize numeric columns\n",
    "scaler = StandardScaler()\n",
    "X_scaled = scaler.fit_transform(X)\n",
    "\n",
    "# Split the data into training and testing sets\n",
    "X_train, X_test, y_train, y_test = train_test_split(X_scaled, y, test_size=0.2, random_state=42)\n",
    "\n",
    "print(\"Training set size:\", X_train.shape)\n",
    "print(\"Testing set size:\", X_test.shape)\n"
   ]
  },
  {
   "cell_type": "code",
   "execution_count": 3,
   "id": "6c6a5760-258f-44d4-bc82-7227e638eb4c",
   "metadata": {},
   "outputs": [
    {
     "name": "stdout",
     "output_type": "stream",
     "text": [
      "Accuracy: 0.8613445378151261\n",
      "\n",
      "Confusion Matrix:\n",
      " [[ 90  17]\n",
      " [ 16 115]]\n",
      "\n",
      "Classification Report:\n",
      "               precision    recall  f1-score   support\n",
      "\n",
      "           0       0.85      0.84      0.85       107\n",
      "           1       0.87      0.88      0.87       131\n",
      "\n",
      "    accuracy                           0.86       238\n",
      "   macro avg       0.86      0.86      0.86       238\n",
      "weighted avg       0.86      0.86      0.86       238\n",
      "\n"
     ]
    }
   ],
   "source": [
    "from sklearn.linear_model import LogisticRegression\n",
    "from sklearn.metrics import accuracy_score, confusion_matrix, classification_report\n",
    "\n",
    "# Initialize and train the model\n",
    "model = LogisticRegression()\n",
    "model.fit(X_train, y_train)\n",
    "\n",
    "# Predict on test data\n",
    "y_pred = model.predict(X_test)\n",
    "\n",
    "# Evaluate the model\n",
    "print(\"Accuracy:\", accuracy_score(y_test, y_pred))\n",
    "print(\"\\nConfusion Matrix:\\n\", confusion_matrix(y_test, y_pred))\n",
    "print(\"\\nClassification Report:\\n\", classification_report(y_test, y_pred))\n"
   ]
  },
  {
   "cell_type": "code",
   "execution_count": 5,
   "id": "24e794b5-837f-4af5-a3b4-b82d889d5c89",
   "metadata": {},
   "outputs": [
    {
     "name": "stdout",
     "output_type": "stream",
     "text": [
      "Accuracy: 0.9495798319327731\n",
      "\n",
      "Confusion Matrix:\n",
      " [[100   7]\n",
      " [  5 126]]\n",
      "\n",
      "Classification Report:\n",
      "               precision    recall  f1-score   support\n",
      "\n",
      "           0       0.95      0.93      0.94       107\n",
      "           1       0.95      0.96      0.95       131\n",
      "\n",
      "    accuracy                           0.95       238\n",
      "   macro avg       0.95      0.95      0.95       238\n",
      "weighted avg       0.95      0.95      0.95       238\n",
      "\n"
     ]
    }
   ],
   "source": [
    "#using random forest method\n",
    "from sklearn.ensemble import RandomForestClassifier\n",
    "from sklearn.metrics import accuracy_score, confusion_matrix, classification_report\n",
    "\n",
    "# Initialize the Random Forest model\n",
    "rf_model = RandomForestClassifier(random_state=42)\n",
    "\n",
    "# Train the model\n",
    "rf_model.fit(X_train, y_train)\n",
    "\n",
    "# Predict on the test set\n",
    "rf_y_pred = rf_model.predict(X_test)\n",
    "\n",
    "# Evaluate the model\n",
    "print(\"Accuracy:\", accuracy_score(y_test, rf_y_pred))\n",
    "print(\"\\nConfusion Matrix:\\n\", confusion_matrix(y_test, rf_y_pred))\n",
    "print(\"\\nClassification Report:\\n\", classification_report(y_test, rf_y_pred))\n"
   ]
  },
  {
   "cell_type": "code",
   "execution_count": 6,
   "id": "df0349ce-00ac-4e99-baa9-6299da0f6388",
   "metadata": {},
   "outputs": [
    {
     "name": "stdout",
     "output_type": "stream",
     "text": [
      "Fitting 5 folds for each of 81 candidates, totalling 405 fits\n",
      "Best Parameters: {'max_depth': 20, 'min_samples_leaf': 1, 'min_samples_split': 2, 'n_estimators': 300}\n",
      "\n",
      "Tuned Model Accuracy: 0.9495798319327731\n",
      "\n",
      "Confusion Matrix:\n",
      " [[100   7]\n",
      " [  5 126]]\n",
      "\n",
      "Classification Report:\n",
      "               precision    recall  f1-score   support\n",
      "\n",
      "           0       0.95      0.93      0.94       107\n",
      "           1       0.95      0.96      0.95       131\n",
      "\n",
      "    accuracy                           0.95       238\n",
      "   macro avg       0.95      0.95      0.95       238\n",
      "weighted avg       0.95      0.95      0.95       238\n",
      "\n"
     ]
    }
   ],
   "source": [
    "from sklearn.model_selection import GridSearchCV\n",
    "\n",
    "# Define the parameter grid\n",
    "param_grid = {\n",
    "    'n_estimators': [100, 200, 300],\n",
    "    'max_depth': [10, 20, None],\n",
    "    'min_samples_split': [2, 5, 10],\n",
    "    'min_samples_leaf': [1, 2, 4]\n",
    "}\n",
    "\n",
    "# Initialize the GridSearchCV\n",
    "grid_search = GridSearchCV(estimator=RandomForestClassifier(random_state=42), \n",
    "                           param_grid=param_grid, \n",
    "                           cv=5, \n",
    "                           scoring='accuracy', \n",
    "                           verbose=2, \n",
    "                           n_jobs=-1)\n",
    "\n",
    "# Perform the grid search\n",
    "grid_search.fit(X_train, y_train)\n",
    "\n",
    "# Best parameters and evaluation\n",
    "print(\"Best Parameters:\", grid_search.best_params_)\n",
    "best_rf_model = grid_search.best_estimator_\n",
    "\n",
    "# Predict with the tuned model\n",
    "tuned_y_pred = best_rf_model.predict(X_test)\n",
    "\n",
    "# Evaluate the tuned model\n",
    "print(\"\\nTuned Model Accuracy:\", accuracy_score(y_test, tuned_y_pred))\n",
    "print(\"\\nConfusion Matrix:\\n\", confusion_matrix(y_test, tuned_y_pred))\n",
    "print(\"\\nClassification Report:\\n\", classification_report(y_test, tuned_y_pred))\n"
   ]
  },
  {
   "cell_type": "code",
   "execution_count": 7,
   "id": "de3a6ce5-026e-4c16-a194-398fcca02f4f",
   "metadata": {},
   "outputs": [
    {
     "data": {
      "image/png": "[encoded data removed]",
      "text/plain": [
       "<Figure size 1000x600 with 1 Axes>"
      ]
     },
     "metadata": {},
     "output_type": "display_data"
    }
   ],
   "source": [
    "import matplotlib.pyplot as plt\n",
    "import numpy as np\n",
    "\n",
    "# Get feature importance\n",
    "importances = best_rf_model.feature_importances_\n",
    "feature_names = data.columns[:-1]  # Exclude 'target'\n",
    "indices = np.argsort(importances)[::-1]\n",
    "\n",
    "# Plot the feature importance\n",
    "plt.figure(figsize=(10, 6))\n",
    "plt.title(\"Feature Importance\")\n",
    "plt.bar(range(X.shape[1]), importances[indices], align=\"center\")\n",
    "plt.xticks(range(X.shape[1]), feature_names[indices], rotation=45)\n",
    "plt.xlabel(\"Feature\")\n",
    "plt.ylabel(\"Importance Score\")\n",
    "plt.tight_layout()\n",
    "plt.show()\n"
   ]
  },
  {
   "cell_type": "code",
   "execution_count": 16,
   "id": "5779a198-a895-474d-8a03-0da98e9a7f6a",
   "metadata": {},
   "outputs": [
    {
     "name": "stdout",
     "output_type": "stream",
     "text": [
      "The patient is likely to have heart disease.\n"
     ]
    },
    {
     "name": "stderr",
     "output_type": "stream",
     "text": [
      "C:\\Users\\sudar\\anaconda3\\Lib\\site-packages\\sklearn\\base.py:439: UserWarning: X does not have valid feature names, but StandardScaler was fitted with feature names\n",
      "  warnings.warn(\n"
     ]
    }
   ],
   "source": [
    "import numpy as np\n",
    "from sklearn.preprocessing import StandardScaler\n",
    "\n",
    "# New patient's data (features)\n",
    "new_patient_data = np.array([55, 1, 2, 140, 255, 0, 1, 160, 0, 1.2, 2])\n",
    "\n",
    "# Reshape data to match the number of features in training data\n",
    "new_patient_data = new_patient_data.reshape(1, -1)\n",
    "\n",
    "# Scale the data using the same scaler used during training\n",
    "new_patient_data_scaled = scaler.transform(new_patient_data)\n",
    "\n",
    "# Make a prediction using the trained Random Forest model\n",
    "prediction = rf_model.predict(new_patient_data_scaled)\n",
    "\n",
    "# Output the prediction\n",
    "if prediction == 1:\n",
    "    print(\"The patient is likely to have heart disease.\")\n",
    "else:\n",
    "    print(\"The patient is likely to be heart disease free.\")\n"
   ]
  },
  {
   "cell_type": "code",
   "execution_count": null,
   "id": "b238ed3d-3a53-4e62-985d-35b2ac773644",
   "metadata": {},
   "outputs": [],
   "source": []
  }
 ],
 "metadata": {
  "kernelspec": {
   "display_name": "Python 3 (ipykernel)",
   "language": "python",
   "name": "python3"
  },
  "language_info": {
   "codemirror_mode": {
    "name": "ipython",
    "version": 3
   },
   "file_extension": ".py",
   "mimetype": "text/x-python",
   "name": "python",
   "nbconvert_exporter": "python",
   "pygments_lexer": "ipython3",
   "version": "3.11.7"
  }
 },
 "nbformat": 4,
 "nbformat_minor": 5
}
